{
 "cells": [
  {
   "cell_type": "code",
   "execution_count": 1,
   "id": "d91f7169-afec-48e8-9fe0-78faecea0a7e",
   "metadata": {},
   "outputs": [
    {
     "name": "stdout",
     "output_type": "stream",
     "text": [
      "Collecting geoclip\n",
      "  Downloading geoclip-1.2.0-py3-none-any.whl.metadata (5.8 kB)\n",
      "Requirement already satisfied: torch in /Users/everyshare/anaconda3/envs/Location_Classification_model/lib/python3.8/site-packages (from geoclip) (2.2.1)\n",
      "Requirement already satisfied: torchvision in /Users/everyshare/anaconda3/envs/Location_Classification_model/lib/python3.8/site-packages (from geoclip) (0.17.1)\n",
      "Requirement already satisfied: Pillow in /Users/everyshare/anaconda3/envs/Location_Classification_model/lib/python3.8/site-packages (from geoclip) (10.2.0)\n",
      "Collecting transformers (from geoclip)\n",
      "  Downloading transformers-4.39.1-py3-none-any.whl.metadata (134 kB)\n",
      "\u001b[2K     \u001b[90m━━━━━━━━━━━━━━━━━━━━━━━━━━━━━━━━━━━━━━━\u001b[0m \u001b[32m134.8/134.8 kB\u001b[0m \u001b[31m4.6 MB/s\u001b[0m eta \u001b[36m0:00:00\u001b[0m\n",
      "\u001b[?25hCollecting pandas (from geoclip)\n",
      "  Using cached pandas-2.0.3-cp38-cp38-macosx_11_0_arm64.whl.metadata (18 kB)\n",
      "Requirement already satisfied: numpy in /Users/everyshare/anaconda3/envs/Location_Classification_model/lib/python3.8/site-packages (from geoclip) (1.24.4)\n",
      "Collecting geopy (from geoclip)\n",
      "  Using cached geopy-2.4.1-py3-none-any.whl.metadata (6.8 kB)\n",
      "Collecting geographiclib<3,>=1.52 (from geopy->geoclip)\n",
      "  Using cached geographiclib-2.0-py3-none-any.whl.metadata (1.4 kB)\n",
      "Requirement already satisfied: python-dateutil>=2.8.2 in /Users/everyshare/anaconda3/envs/Location_Classification_model/lib/python3.8/site-packages (from pandas->geoclip) (2.9.0.post0)\n",
      "Requirement already satisfied: pytz>=2020.1 in /Users/everyshare/anaconda3/envs/Location_Classification_model/lib/python3.8/site-packages (from pandas->geoclip) (2024.1)\n",
      "Collecting tzdata>=2022.1 (from pandas->geoclip)\n",
      "  Using cached tzdata-2024.1-py2.py3-none-any.whl.metadata (1.4 kB)\n",
      "Requirement already satisfied: filelock in /Users/everyshare/anaconda3/envs/Location_Classification_model/lib/python3.8/site-packages (from torch->geoclip) (3.13.3)\n",
      "Requirement already satisfied: typing-extensions>=4.8.0 in /Users/everyshare/anaconda3/envs/Location_Classification_model/lib/python3.8/site-packages (from torch->geoclip) (4.10.0)\n",
      "Requirement already satisfied: sympy in /Users/everyshare/anaconda3/envs/Location_Classification_model/lib/python3.8/site-packages (from torch->geoclip) (1.12)\n",
      "Requirement already satisfied: networkx in /Users/everyshare/anaconda3/envs/Location_Classification_model/lib/python3.8/site-packages (from torch->geoclip) (3.1)\n",
      "Requirement already satisfied: jinja2 in /Users/everyshare/anaconda3/envs/Location_Classification_model/lib/python3.8/site-packages (from torch->geoclip) (3.1.3)\n",
      "Requirement already satisfied: fsspec in /Users/everyshare/anaconda3/envs/Location_Classification_model/lib/python3.8/site-packages (from torch->geoclip) (2024.3.1)\n",
      "Collecting huggingface-hub<1.0,>=0.19.3 (from transformers->geoclip)\n",
      "  Downloading huggingface_hub-0.22.1-py3-none-any.whl.metadata (12 kB)\n",
      "Requirement already satisfied: packaging>=20.0 in /Users/everyshare/anaconda3/envs/Location_Classification_model/lib/python3.8/site-packages (from transformers->geoclip) (24.0)\n",
      "Requirement already satisfied: pyyaml>=5.1 in /Users/everyshare/anaconda3/envs/Location_Classification_model/lib/python3.8/site-packages (from transformers->geoclip) (6.0.1)\n",
      "Collecting regex!=2019.12.17 (from transformers->geoclip)\n",
      "  Downloading regex-2023.12.25-cp38-cp38-macosx_11_0_arm64.whl.metadata (40 kB)\n",
      "\u001b[2K     \u001b[90m━━━━━━━━━━━━━━━━━━━━━━━━━━━━━━━━━━━━━━━━\u001b[0m \u001b[32m40.9/40.9 kB\u001b[0m \u001b[31m4.3 MB/s\u001b[0m eta \u001b[36m0:00:00\u001b[0m\n",
      "\u001b[?25hRequirement already satisfied: requests in /Users/everyshare/anaconda3/envs/Location_Classification_model/lib/python3.8/site-packages (from transformers->geoclip) (2.31.0)\n",
      "Collecting tokenizers<0.19,>=0.14 (from transformers->geoclip)\n",
      "  Downloading tokenizers-0.15.2-cp38-cp38-macosx_11_0_arm64.whl.metadata (6.7 kB)\n",
      "Collecting safetensors>=0.4.1 (from transformers->geoclip)\n",
      "  Downloading safetensors-0.4.2-cp38-cp38-macosx_11_0_arm64.whl.metadata (3.8 kB)\n",
      "Collecting tqdm>=4.27 (from transformers->geoclip)\n",
      "  Using cached tqdm-4.66.2-py3-none-any.whl.metadata (57 kB)\n",
      "Requirement already satisfied: six>=1.5 in /Users/everyshare/anaconda3/envs/Location_Classification_model/lib/python3.8/site-packages (from python-dateutil>=2.8.2->pandas->geoclip) (1.16.0)\n",
      "Requirement already satisfied: MarkupSafe>=2.0 in /Users/everyshare/anaconda3/envs/Location_Classification_model/lib/python3.8/site-packages (from jinja2->torch->geoclip) (2.1.5)\n",
      "Requirement already satisfied: charset-normalizer<4,>=2 in /Users/everyshare/anaconda3/envs/Location_Classification_model/lib/python3.8/site-packages (from requests->transformers->geoclip) (3.3.2)\n",
      "Requirement already satisfied: idna<4,>=2.5 in /Users/everyshare/anaconda3/envs/Location_Classification_model/lib/python3.8/site-packages (from requests->transformers->geoclip) (3.6)\n",
      "Requirement already satisfied: urllib3<3,>=1.21.1 in /Users/everyshare/anaconda3/envs/Location_Classification_model/lib/python3.8/site-packages (from requests->transformers->geoclip) (2.2.1)\n",
      "Requirement already satisfied: certifi>=2017.4.17 in /Users/everyshare/anaconda3/envs/Location_Classification_model/lib/python3.8/site-packages (from requests->transformers->geoclip) (2024.2.2)\n",
      "Requirement already satisfied: mpmath>=0.19 in /Users/everyshare/anaconda3/envs/Location_Classification_model/lib/python3.8/site-packages (from sympy->torch->geoclip) (1.3.0)\n",
      "Downloading geoclip-1.2.0-py3-none-any.whl (40.3 MB)\n",
      "\u001b[2K   \u001b[90m━━━━━━━━━━━━━━━━━━━━━━━━━━━━━━━━━━━━━━━━\u001b[0m \u001b[32m40.3/40.3 MB\u001b[0m \u001b[31m40.1 MB/s\u001b[0m eta \u001b[36m0:00:00\u001b[0m00:01\u001b[0m00:01\u001b[0m\n",
      "\u001b[?25hUsing cached geopy-2.4.1-py3-none-any.whl (125 kB)\n",
      "Using cached pandas-2.0.3-cp38-cp38-macosx_11_0_arm64.whl (10.7 MB)\n",
      "Downloading transformers-4.39.1-py3-none-any.whl (8.8 MB)\n",
      "\u001b[2K   \u001b[90m━━━━━━━━━━━━━━━━━━━━━━━━━━━━━━━━━━━━━━━━\u001b[0m \u001b[32m8.8/8.8 MB\u001b[0m \u001b[31m49.2 MB/s\u001b[0m eta \u001b[36m0:00:00\u001b[0ma \u001b[36m0:00:01\u001b[0m\n",
      "\u001b[?25hUsing cached geographiclib-2.0-py3-none-any.whl (40 kB)\n",
      "Downloading huggingface_hub-0.22.1-py3-none-any.whl (388 kB)\n",
      "\u001b[2K   \u001b[90m━━━━━━━━━━━━━━━━━━━━━━━━━━━━━━━━━━━━━━━━\u001b[0m \u001b[32m388.6/388.6 kB\u001b[0m \u001b[31m28.4 MB/s\u001b[0m eta \u001b[36m0:00:00\u001b[0m\n",
      "\u001b[?25hDownloading regex-2023.12.25-cp38-cp38-macosx_11_0_arm64.whl (291 kB)\n",
      "\u001b[2K   \u001b[90m━━━━━━━━━━━━━━━━━━━━━━━━━━━━━━━━━━━━━━━━\u001b[0m \u001b[32m291.0/291.0 kB\u001b[0m \u001b[31m17.5 MB/s\u001b[0m eta \u001b[36m0:00:00\u001b[0m\n",
      "\u001b[?25hDownloading safetensors-0.4.2-cp38-cp38-macosx_11_0_arm64.whl (392 kB)\n",
      "\u001b[2K   \u001b[90m━━━━━━━━━━━━━━━━━━━━━━━━━━━━━━━━━━━━━━━━\u001b[0m \u001b[32m392.9/392.9 kB\u001b[0m \u001b[31m37.8 MB/s\u001b[0m eta \u001b[36m0:00:00\u001b[0m\n",
      "\u001b[?25hDownloading tokenizers-0.15.2-cp38-cp38-macosx_11_0_arm64.whl (2.4 MB)\n",
      "\u001b[2K   \u001b[90m━━━━━━━━━━━━━━━━━━━━━━━━━━━━━━━━━━━━━━━━\u001b[0m \u001b[32m2.4/2.4 MB\u001b[0m \u001b[31m41.6 MB/s\u001b[0m eta \u001b[36m0:00:00\u001b[0ma \u001b[36m0:00:01\u001b[0m\n",
      "\u001b[?25hUsing cached tqdm-4.66.2-py3-none-any.whl (78 kB)\n",
      "Using cached tzdata-2024.1-py2.py3-none-any.whl (345 kB)\n",
      "Installing collected packages: tzdata, tqdm, safetensors, regex, geographiclib, pandas, huggingface-hub, geopy, tokenizers, transformers, geoclip\n",
      "Successfully installed geoclip-1.2.0 geographiclib-2.0 geopy-2.4.1 huggingface-hub-0.22.1 pandas-2.0.3 regex-2023.12.25 safetensors-0.4.2 tokenizers-0.15.2 tqdm-4.66.2 transformers-4.39.1 tzdata-2024.1\n"
     ]
    }
   ],
   "source": [
    "!pip install geoclip"
   ]
  },
  {
   "cell_type": "code",
   "execution_count": 7,
   "id": "cbd75f8b-6f92-4e09-81ad-25a15e71be7c",
   "metadata": {},
   "outputs": [
    {
     "name": "stdout",
     "output_type": "stream",
     "text": [
      "Top 5 GPS Predictions\n",
      "=====================\n",
      "Prediction 1: (51.502064, -0.138573)\n",
      "Probability: 0.017157\n",
      "\n",
      "Prediction 2: (51.502464, -0.139303)\n",
      "Probability: 0.016875\n",
      "\n",
      "Prediction 3: (51.502670, -0.138764)\n",
      "Probability: 0.016790\n",
      "\n",
      "Prediction 4: (51.502453, -0.139560)\n",
      "Probability: 0.016727\n",
      "\n",
      "Prediction 5: (51.502460, -0.135666)\n",
      "Probability: 0.016337\n",
      "\n"
     ]
    }
   ],
   "source": [
    "import torch\n",
    "from geoclip import GeoCLIP\n",
    "\n",
    "model = GeoCLIP()\n",
    "\n",
    "image_path = \"datasets/test.jpeg\"\n",
    "\n",
    "top_pred_gps, top_pred_prob = model.predict(image_path, top_k=5)\n",
    "\n",
    "print(\"Top 5 GPS Predictions\")\n",
    "print(\"=====================\")\n",
    "for i in range(5):\n",
    "    lat, lon = top_pred_gps[i]\n",
    "    print(f\"Prediction {i+1}: ({lat:.6f}, {lon:.6f})\")\n",
    "    print(f\"Probability: {top_pred_prob[i]:.6f}\")\n",
    "    print(\"\")"
   ]
  },
  {
   "cell_type": "code",
   "execution_count": 4,
   "id": "2dc7b30a-0b98-4161-b110-e67cf22e2cea",
   "metadata": {},
   "outputs": [
    {
     "data": {
      "text/plain": [
       "(tensor(37.5538), tensor(126.9247))"
      ]
     },
     "execution_count": 4,
     "metadata": {},
     "output_type": "execute_result"
    }
   ],
   "source": [
    "lat,lon = top_pred_gps[0]\n",
    "lat, lon"
   ]
  },
  {
   "cell_type": "code",
   "execution_count": 5,
   "id": "21510c31-5ba1-4a77-b2cf-32d4bddbdee6",
   "metadata": {},
   "outputs": [
    {
     "name": "stdout",
     "output_type": "stream",
     "text": [
      "torch.Size([1, 512])\n"
     ]
    }
   ],
   "source": [
    "from geoclip import LocationEncoder\n",
    "\n",
    "gps_encoder = LocationEncoder()\n",
    "\n",
    "gps_data = torch.Tensor([[lat, lon]]) \n",
    "gps_embeddings = gps_encoder(gps_data)\n",
    "print(gps_embeddings.shape) # (2, 512)"
   ]
  },
  {
   "cell_type": "code",
   "execution_count": 6,
   "id": "1857ae67-aa04-4497-9592-23bbddb3ad27",
   "metadata": {},
   "outputs": [
    {
     "data": {
      "text/plain": [
       "tensor([[-0.0035,  0.0193, -0.0024,  0.0115, -0.0047, -0.0046,  0.0031,  0.0016,\n",
       "          0.0191, -0.0366, -0.0251,  0.0031, -0.0019, -0.0207,  0.0106, -0.0112,\n",
       "         -0.0094,  0.0044, -0.0021,  0.0020,  0.0205, -0.0187,  0.0101, -0.0034,\n",
       "         -0.0106,  0.0046, -0.0103,  0.0097,  0.0012, -0.0184,  0.0112,  0.0014,\n",
       "          0.0060,  0.0053,  0.0009,  0.0103, -0.0010,  0.0140, -0.0149, -0.0138,\n",
       "         -0.0052, -0.0193, -0.0105,  0.0133, -0.0021,  0.0044,  0.0008,  0.0033,\n",
       "         -0.0068,  0.0037,  0.0065, -0.0092,  0.0056,  0.0138, -0.0173, -0.0094,\n",
       "         -0.0002,  0.0040,  0.0055,  0.0112, -0.0017,  0.0111, -0.0084,  0.0107,\n",
       "          0.0056,  0.0023, -0.0239, -0.0143, -0.0072, -0.0107,  0.0129, -0.0088,\n",
       "         -0.0037, -0.0016, -0.0190,  0.0131,  0.0035, -0.0020,  0.0056, -0.0109,\n",
       "          0.0029, -0.0180, -0.0076,  0.0186, -0.0047, -0.0019, -0.0100, -0.0150,\n",
       "          0.0268,  0.0018, -0.0047, -0.0065,  0.0325,  0.0026, -0.0006,  0.0077,\n",
       "          0.0069, -0.0075, -0.0043,  0.0238,  0.0059,  0.0176, -0.0142,  0.0374,\n",
       "         -0.0055,  0.0107,  0.0040,  0.0227,  0.0176, -0.0148, -0.0009,  0.0212,\n",
       "         -0.0223, -0.0026,  0.0005, -0.0021,  0.0017, -0.0099, -0.0067, -0.0045,\n",
       "         -0.0123,  0.0080,  0.0069, -0.0290, -0.0099,  0.0192, -0.0156,  0.0137,\n",
       "         -0.0006,  0.0094,  0.0004,  0.0017, -0.0204, -0.0083, -0.0029, -0.0205,\n",
       "         -0.0193, -0.0244, -0.0054,  0.0204,  0.0277, -0.0292,  0.0025,  0.0165,\n",
       "          0.0145, -0.0036, -0.0134, -0.0066,  0.0110, -0.0041, -0.0052,  0.0064,\n",
       "         -0.0002,  0.0046, -0.0174, -0.0190,  0.0102,  0.0081, -0.0127, -0.0031,\n",
       "         -0.0226,  0.0067,  0.0036, -0.0049, -0.0083,  0.0063,  0.0303,  0.0114,\n",
       "         -0.0054, -0.0013, -0.0036,  0.0146, -0.0250, -0.0026,  0.0054, -0.0220,\n",
       "         -0.0042, -0.0002,  0.0046,  0.0033,  0.0103, -0.0170, -0.0222,  0.0334,\n",
       "         -0.0052,  0.0165, -0.0053,  0.0122,  0.0218,  0.0213,  0.0034,  0.0325,\n",
       "         -0.0082,  0.0121, -0.0249, -0.0038,  0.0089, -0.0393,  0.0076,  0.0121,\n",
       "         -0.0028, -0.0068,  0.0144, -0.0121,  0.0223, -0.0069, -0.0035,  0.0026,\n",
       "         -0.0193, -0.0196,  0.0046,  0.0006, -0.0349,  0.0034,  0.0054, -0.0054,\n",
       "          0.0022,  0.0132, -0.0123,  0.0008,  0.0376,  0.0036, -0.0016,  0.0118,\n",
       "         -0.0006, -0.0019, -0.0060,  0.0009,  0.0072, -0.0074,  0.0062, -0.0301,\n",
       "          0.0047, -0.0259,  0.0073, -0.0252,  0.0183, -0.0127,  0.0174, -0.0058,\n",
       "         -0.0012, -0.0220, -0.0164,  0.0083, -0.0383,  0.0091,  0.0194,  0.0011,\n",
       "         -0.0169, -0.0237, -0.0051, -0.0068, -0.0077,  0.0026,  0.0055,  0.0002,\n",
       "         -0.0142,  0.0087,  0.0048, -0.0111, -0.0357, -0.0076,  0.0162, -0.0137,\n",
       "         -0.0151, -0.0172,  0.0068,  0.0279, -0.0035,  0.0072, -0.0064, -0.0145,\n",
       "         -0.0052, -0.0012,  0.0117, -0.0082,  0.0180, -0.0015,  0.0010,  0.0016,\n",
       "         -0.0151, -0.0086, -0.0044,  0.0114, -0.0082,  0.0134,  0.0007,  0.0048,\n",
       "          0.0004,  0.0111, -0.0141, -0.0236, -0.0072, -0.0185,  0.0117, -0.0143,\n",
       "          0.0095,  0.0232, -0.0023, -0.0149, -0.0034,  0.0060,  0.0163, -0.0294,\n",
       "         -0.0071,  0.0179, -0.0226,  0.0038, -0.0016, -0.0023, -0.0135,  0.0167,\n",
       "         -0.0099,  0.0133,  0.0190, -0.0020,  0.0133,  0.0148, -0.0049,  0.0148,\n",
       "         -0.0190, -0.0184, -0.0311,  0.0125, -0.0176,  0.0167,  0.0089,  0.0030,\n",
       "          0.0046,  0.0165, -0.0219,  0.0308,  0.0225, -0.0196, -0.0056,  0.0058,\n",
       "         -0.0234,  0.0014, -0.0219, -0.0022, -0.0207,  0.0023,  0.0116, -0.0113,\n",
       "          0.0011,  0.0228,  0.0071, -0.0237, -0.0058,  0.0091, -0.0102,  0.0175,\n",
       "         -0.0070, -0.0064,  0.0160, -0.0049, -0.0124,  0.0016,  0.0306,  0.0114,\n",
       "          0.0057, -0.0220,  0.0063,  0.0298,  0.0162, -0.0295,  0.0043, -0.0034,\n",
       "         -0.0014,  0.0023,  0.0025,  0.0159, -0.0152,  0.0423, -0.0110,  0.0030,\n",
       "         -0.0194, -0.0118,  0.0054, -0.0145,  0.0012,  0.0219, -0.0127, -0.0195,\n",
       "         -0.0117, -0.0068, -0.0002,  0.0065, -0.0160, -0.0401,  0.0063, -0.0013,\n",
       "         -0.0127,  0.0211, -0.0096,  0.0164,  0.0128,  0.0026, -0.0065,  0.0053,\n",
       "          0.0107,  0.0105, -0.0115, -0.0217, -0.0167,  0.0013, -0.0325,  0.0252,\n",
       "          0.0011,  0.0009, -0.0210, -0.0038, -0.0050, -0.0053, -0.0006, -0.0009,\n",
       "         -0.0125,  0.0181, -0.0224, -0.0273, -0.0030, -0.0056,  0.0044,  0.0013,\n",
       "          0.0120,  0.0202, -0.0018, -0.0107,  0.0210,  0.0298, -0.0167,  0.0095,\n",
       "         -0.0223, -0.0135,  0.0067,  0.0249,  0.0208,  0.0095,  0.0156,  0.0152,\n",
       "          0.0008,  0.0249,  0.0062,  0.0085, -0.0051, -0.0039, -0.0423,  0.0228,\n",
       "         -0.0044, -0.0005, -0.0029,  0.0094, -0.0059,  0.0179,  0.0147, -0.0210,\n",
       "         -0.0063, -0.0274,  0.0009,  0.0105, -0.0092, -0.0173, -0.0139, -0.0105,\n",
       "          0.0037,  0.0137,  0.0029, -0.0202, -0.0242, -0.0017, -0.0065, -0.0051,\n",
       "         -0.0032, -0.0231,  0.0030, -0.0013,  0.0183, -0.0148, -0.0095,  0.0061,\n",
       "         -0.0240,  0.0214, -0.0175, -0.0123, -0.0101, -0.0115, -0.0168, -0.0140,\n",
       "         -0.0087, -0.0028, -0.0379, -0.0161,  0.0029,  0.0024,  0.0161,  0.0048,\n",
       "          0.0141, -0.0049,  0.0041, -0.0181,  0.0065,  0.0029,  0.0049,  0.0252,\n",
       "          0.0072,  0.0370, -0.0283,  0.0100, -0.0165,  0.0277,  0.0006, -0.0237]],\n",
       "       grad_fn=<AddBackward0>)"
      ]
     },
     "execution_count": 6,
     "metadata": {},
     "output_type": "execute_result"
    }
   ],
   "source": [
    "gps_embeddings"
   ]
  },
  {
   "cell_type": "code",
   "execution_count": null,
   "id": "e431531f-2bb7-4c40-b7ea-95efff99722b",
   "metadata": {},
   "outputs": [],
   "source": []
  }
 ],
 "metadata": {
  "kernelspec": {
   "display_name": "Python 3 (ipykernel)",
   "language": "python",
   "name": "python3"
  },
  "language_info": {
   "codemirror_mode": {
    "name": "ipython",
    "version": 3
   },
   "file_extension": ".py",
   "mimetype": "text/x-python",
   "name": "python",
   "nbconvert_exporter": "python",
   "pygments_lexer": "ipython3",
   "version": "3.8.19"
  }
 },
 "nbformat": 4,
 "nbformat_minor": 5
}
