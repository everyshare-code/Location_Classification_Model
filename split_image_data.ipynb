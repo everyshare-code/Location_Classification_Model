{
 "cells": [
  {
   "cell_type": "code",
   "execution_count": 1,
   "id": "588c78b4-de98-4e1e-a0ba-21647b77024c",
   "metadata": {},
   "outputs": [],
   "source": [
    "import os\n",
    "import shutil\n",
    "from sklearn.model_selection import train_test_split"
   ]
  },
  {
   "cell_type": "code",
   "execution_count": 4,
   "id": "0358fc40-f519-48dd-8129-f64ff161770e",
   "metadata": {},
   "outputs": [],
   "source": [
    "source_dir='datasets/images'\n",
    "train_dir='datasets/train'\n",
    "val_dir='datasets/val'\n",
    "test_dir='datasets/test'"
   ]
  },
  {
   "cell_type": "code",
   "execution_count": null,
   "id": "80acef8b-05c5-4485-83a4-2abed2c8dfc1",
   "metadata": {},
   "outputs": [],
   "source": [
    "# 폴더 생성 함수\n",
    "def create_dir_if_not_exists(directory):\n",
    "    if not os.path.exists(directory):\n",
    "        os.makedirs(directory)"
   ]
  },
  {
   "cell_type": "code",
   "execution_count": 102,
   "id": "cb09d696-93c7-474b-96c8-9c4fab811515",
   "metadata": {},
   "outputs": [],
   "source": [
    "# 데이터를 분할하고 이동시키는 함수\n",
    "def split_data(source_dir, train_dir, test_dir, val_dir, test_size=0.1, val_size=0.1):\n",
    "    # 클래스 별로 처리 (여기서는 'dog'와 'cat')\n",
    "    for class_name in ['dog', 'cat']:\n",
    "        source_class_dir = os.path.join(source_dir, class_name)\n",
    "        train_class_dir = os.path.join(train_dir, class_name)\n",
    "        test_class_dir = os.path.join(test_dir, class_name)\n",
    "        val_class_dir = os.path.join(val_dir, class_name)\n",
    "\n",
    "        # 디렉토리 생성\n",
    "        create_dir_if_not_exists(train_class_dir)\n",
    "        create_dir_if_not_exists(test_class_dir)\n",
    "        create_dir_if_not_exists(val_class_dir)\n",
    "\n",
    "        # 파일 리스트 가져오기\n",
    "        files = [f for f in os.listdir(source_class_dir) if os.path.isfile(os.path.join(source_class_dir, f))]\n",
    "\n",
    "        # 먼저 test 분할을 위해 train_test_split 사용\n",
    "        train_files, test_files = train_test_split(files, test_size=test_size + val_size, random_state=42)\n",
    "        \n",
    "        # 나머지 파일들에서 val 분할\n",
    "        train_files, val_files = train_test_split(train_files, test_size=val_size/(1-(test_size + val_size)), random_state=42)\n",
    "\n",
    "        # 파일 이동\n",
    "        for f in test_files:\n",
    "            shutil.move(os.path.join(source_class_dir, f), os.path.join(test_class_dir, f))\n",
    "        for f in val_files:\n",
    "            shutil.move(os.path.join(source_class_dir, f), os.path.join(val_class_dir, f))\n",
    "        for f in train_files:\n",
    "            shutil.move(os.path.join(source_class_dir, f), os.path.join(train_class_dir, f))"
   ]
  }
 ],
 "metadata": {
  "kernelspec": {
   "display_name": "Python 3 (ipykernel)",
   "language": "python",
   "name": "python3"
  },
  "language_info": {
   "codemirror_mode": {
    "name": "ipython",
    "version": 3
   },
   "file_extension": ".py",
   "mimetype": "text/x-python",
   "name": "python",
   "nbconvert_exporter": "python",
   "pygments_lexer": "ipython3",
   "version": "3.8.19"
  }
 },
 "nbformat": 4,
 "nbformat_minor": 5
}
