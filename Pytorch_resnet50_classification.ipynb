{
 "cells": [
  {
   "cell_type": "code",
   "execution_count": null,
   "id": "5fb13027-9391-47d5-a863-701d93fd4456",
   "metadata": {},
   "outputs": [],
   "source": []
  },
  {
   "cell_type": "code",
   "execution_count": 2,
   "id": "db007f27-080e-4f19-81eb-646f8b51e73f",
   "metadata": {},
   "outputs": [],
   "source": [
    "import torch\n",
    "from torchvision import transforms, datasets\n",
    "from torch.utils.data import DataLoader\n",
    "\n",
    "# 이미지 전처리를 위한 transform 정의\n",
    "transform = transforms.Compose([\n",
    "    transforms.Resize((224, 224)),  # 이미지 크기 조정\n",
    "    transforms.ToTensor(),  # 이미지를 PyTorch Tensor로 변환\n",
    "    transforms.Normalize(mean=[0.485, 0.456, 0.406], std=[0.229, 0.224, 0.225])  # 정규화\n",
    "])\n",
    "\n",
    "# 학습 및 검증 데이터셋 로드\n",
    "train_dataset = datasets.ImageFolder(root='datasets/train', transform=transform)\n",
    "val_dataset = datasets.ImageFolder(root='datasets/val', transform=transform)\n",
    "\n",
    "# DataLoader 생성\n",
    "train_loader = DataLoader(train_dataset, batch_size=32, shuffle=True)\n",
    "val_loader = DataLoader(val_dataset, batch_size=32, shuffle=False)"
   ]
  },
  {
   "cell_type": "code",
   "execution_count": 5,
   "id": "c88c653c-3b9f-49e9-9b1c-577e156aefcc",
   "metadata": {},
   "outputs": [
    {
     "name": "stderr",
     "output_type": "stream",
     "text": [
      "/Users/everyshare/anaconda3/envs/Location_Classification_model/lib/python3.8/site-packages/torchvision/models/_utils.py:208: UserWarning: The parameter 'pretrained' is deprecated since 0.13 and may be removed in the future, please use 'weights' instead.\n",
      "  warnings.warn(\n",
      "/Users/everyshare/anaconda3/envs/Location_Classification_model/lib/python3.8/site-packages/torchvision/models/_utils.py:223: UserWarning: Arguments other than a weight enum or `None` for 'weights' are deprecated since 0.13 and may be removed in the future. The current behavior is equivalent to passing `weights=ResNet18_Weights.IMAGENET1K_V1`. You can also use `weights=ResNet18_Weights.DEFAULT` to get the most up-to-date weights.\n",
      "  warnings.warn(msg)\n"
     ]
    },
    {
     "name": "stdout",
     "output_type": "stream",
     "text": [
      "mps\n"
     ]
    }
   ],
   "source": [
    "from torchvision import models\n",
    "\n",
    "num_classes=len(train_dataset.classes)\n",
    "\n",
    "# 사전 훈련된 ResNet 모델 로드\n",
    "model = models.resnet18(pretrained=True)\n",
    "\n",
    "# 마지막 계층을 현재 데이터셋에 맞게 변경\n",
    "num_ftrs = model.fc.in_features\n",
    "model.fc = torch.nn.Linear(num_ftrs, num_classes)  # num_classes는 데이터셋에 따라 다름\n",
    "\n",
    "# GPU 사용 설정\n",
    "device = torch.device(\"mps\")\n",
    "print(device)\n",
    "model = model.to(device)"
   ]
  },
  {
   "cell_type": "code",
   "execution_count": 6,
   "id": "23495718-297b-404b-9e16-86acf8b28ed5",
   "metadata": {},
   "outputs": [],
   "source": [
    "import torch.optim as optim\n",
    "from torch.optim import lr_scheduler\n",
    "\n",
    "criterion = torch.nn.CrossEntropyLoss()\n",
    "optimizer = optim.SGD(model.parameters(), lr=0.001, momentum=0.9)\n",
    "scheduler = lr_scheduler.StepLR(optimizer, step_size=7, gamma=0.1)  # 학습률 조정"
   ]
  },
  {
   "cell_type": "code",
   "execution_count": 9,
   "id": "3f3dae83-3864-41dc-8c08-c5a597f8123f",
   "metadata": {},
   "outputs": [],
   "source": [
    "def train_model(model, criterion, optimizer, scheduler, num_epochs=25):\n",
    "    for epoch in range(num_epochs):\n",
    "        model.train()\n",
    "        running_loss = 0.0\n",
    "        running_corrects = 0\n",
    "\n",
    "        for inputs, labels in train_loader:\n",
    "            inputs = inputs.to(device)\n",
    "            labels = labels.to(device)\n",
    "\n",
    "            optimizer.zero_grad()\n",
    "\n",
    "            outputs = model(inputs)\n",
    "            _, preds = torch.max(outputs, 1)\n",
    "            loss = criterion(outputs, labels)\n",
    "\n",
    "            loss.backward()\n",
    "            optimizer.step()\n",
    "\n",
    "            running_loss += loss.item() * inputs.size(0)\n",
    "            running_corrects += torch.sum(preds == labels.data)\n",
    "        \n",
    "        scheduler.step()\n",
    "\n",
    "        epoch_loss = running_loss / len(train_dataset)\n",
    "        epoch_acc = running_corrects.float() / len(train_dataset)\n",
    "\n",
    "        print(f'Epoch {epoch}/{num_epochs - 1} Loss: {epoch_loss:.4f} Acc: {epoch_acc:.4f}')"
   ]
  },
  {
   "cell_type": "code",
   "execution_count": 10,
   "id": "2cd88ec5-307e-444f-b9f4-6c6eb4b9d7f0",
   "metadata": {},
   "outputs": [
    {
     "name": "stdout",
     "output_type": "stream",
     "text": [
      "Epoch 0/24 Loss: 0.0325 Acc: 0.9873\n",
      "Epoch 1/24 Loss: 0.0187 Acc: 0.9932\n",
      "Epoch 2/24 Loss: 0.0116 Acc: 0.9965\n",
      "Epoch 3/24 Loss: 0.0097 Acc: 0.9972\n",
      "Epoch 4/24 Loss: 0.0073 Acc: 0.9978\n",
      "Epoch 5/24 Loss: 0.0050 Acc: 0.9987\n",
      "Epoch 6/24 Loss: 0.0035 Acc: 0.9990\n",
      "Epoch 7/24 Loss: 0.0027 Acc: 0.9994\n",
      "Epoch 8/24 Loss: 0.0034 Acc: 0.9991\n",
      "Epoch 9/24 Loss: 0.0026 Acc: 0.9994\n",
      "Epoch 10/24 Loss: 0.0033 Acc: 0.9993\n",
      "Epoch 11/24 Loss: 0.0026 Acc: 0.9994\n",
      "Epoch 12/24 Loss: 0.0024 Acc: 0.9996\n",
      "Epoch 13/24 Loss: 0.0026 Acc: 0.9995\n",
      "Epoch 14/24 Loss: 0.0023 Acc: 0.9997\n",
      "Epoch 15/24 Loss: 0.0024 Acc: 0.9995\n",
      "Epoch 16/24 Loss: 0.0020 Acc: 0.9997\n",
      "Epoch 17/24 Loss: 0.0027 Acc: 0.9993\n",
      "Epoch 18/24 Loss: 0.0023 Acc: 0.9995\n",
      "Epoch 19/24 Loss: 0.0020 Acc: 0.9997\n",
      "Epoch 20/24 Loss: 0.0033 Acc: 0.9991\n",
      "Epoch 21/24 Loss: 0.0027 Acc: 0.9995\n",
      "Epoch 22/24 Loss: 0.0024 Acc: 0.9998\n",
      "Epoch 23/24 Loss: 0.0022 Acc: 0.9998\n",
      "Epoch 24/24 Loss: 0.0018 Acc: 0.9998\n"
     ]
    }
   ],
   "source": [
    "train_model(model,criterion,optimizer,scheduler)"
   ]
  },
  {
   "cell_type": "code",
   "execution_count": 13,
   "id": "8be56f8b-2827-4fb6-a22e-32c8d707aa14",
   "metadata": {},
   "outputs": [],
   "source": [
    "def validate_model(model, criterion):\n",
    "    model.eval()\n",
    "    running_loss = 0.0\n",
    "    running_corrects = 0\n",
    "\n",
    "    with torch.no_grad():\n",
    "        for inputs, labels in val_loader:\n",
    "            inputs = inputs.to(device)\n",
    "            labels = labels.to(device)\n",
    "\n",
    "            outputs = model(inputs)\n",
    "            _, preds = torch.max(outputs, 1)\n",
    "            loss = criterion(outputs, labels)\n",
    "\n",
    "            running_loss += loss.item() * inputs.size(0)\n",
    "            running_corrects += torch.sum(preds == labels.data)\n",
    "\n",
    "    total_loss = running_loss / len(val_dataset)\n",
    "    total_acc = running_corrects.float() / len(val_dataset)\n",
    "    print(f'Validation Loss: {total_loss:.4f} Acc: {total_acc:.4f}')\n"
   ]
  },
  {
   "cell_type": "code",
   "execution_count": 14,
   "id": "a7fb9a69-d7b9-4979-88b5-9a7cb5ca10f0",
   "metadata": {},
   "outputs": [
    {
     "name": "stdout",
     "output_type": "stream",
     "text": [
      "Validation Loss: 0.0307 Acc: 0.9888\n"
     ]
    }
   ],
   "source": [
    "validate_model(model,criterion)"
   ]
  },
  {
   "cell_type": "code",
   "execution_count": 16,
   "id": "947c4090-cd07-4838-b9e5-015718cb26f4",
   "metadata": {},
   "outputs": [],
   "source": [
    "model_path='model_weights.pth'\n",
    "torch.save(model.state_dict(), model_path)"
   ]
  },
  {
   "cell_type": "code",
   "execution_count": null,
   "id": "bb0e39e8-4d3e-4fe6-9329-693f6d83300d",
   "metadata": {},
   "outputs": [],
   "source": [
    "import matplotlib.pyplot as plt\n",
    "\n",
    "def plot_training_history(train_history, val_history, title='Loss'):\n",
    "    plt.figure()\n",
    "    plt.plot(train_history, label='Train')\n",
    "    plt.plot(val_history, label='Validation')\n",
    "    plt.title(title)\n",
    "    plt.legend()\n",
    "    plt.show()\n",
    "\n",
    "# 예를 들어, 손실과 정확도의 변화를 시각화할 수 있습니다.\n",
    "# plot_training_history(train_losses, val_losses, 'Loss')\n",
    "# plot_training_history(train_accuracies, val_accuracies, 'Accuracy')\n"
   ]
  },
  {
   "cell_type": "code",
   "execution_count": 25,
   "id": "9d12df6e-c9a8-4e38-a80d-a496b75adb27",
   "metadata": {},
   "outputs": [],
   "source": [
    "# 모델을 평가 모드로 설정하고 이미지에 대한 예측 실행, 라벨 반환\n",
    "import torch.nn.functional as F\n",
    "# 모델을 평가 모드로 설정하고 이미지에 대한 예측 실행\n",
    "def predict_image(model, image, idx_to_class):\n",
    "    model.eval()  # 모델을 평가 모드로 설정\n",
    "    image = image.to(device)\n",
    "    \n",
    "    with torch.no_grad():\n",
    "        outputs = model(image)\n",
    "        # 확률을 얻기 위해 softmax 함수 적용\n",
    "        probabilities = F.softmax(outputs, dim=1)\n",
    "        # 최대 확률을 가진 클래스의 인덱스와 확률 값 추출\n",
    "        top_p, top_class = probabilities.topk(1, dim=1)\n",
    "        idx = top_class.item()\n",
    "        pred_class = idx_to_class[idx]\n",
    "        pred_prob = top_p.item()\n",
    "        \n",
    "    return pred_class, pred_prob"
   ]
  },
  {
   "cell_type": "code",
   "execution_count": 18,
   "id": "b0d9470a-e991-4930-8d7a-e15b4a45fab0",
   "metadata": {},
   "outputs": [],
   "source": [
    "from PIL import Image\n",
    "def load_image(image_path):\n",
    "    transform = transforms.Compose([\n",
    "        transforms.Resize((224,224)),\n",
    "        transforms.ToTensor(),\n",
    "        transforms.Normalize(mean=[0.485, 0.456, 0.406], std=[0.229, 0.224, 0.225])\n",
    "    ])\n",
    "    image=Image.open(image_path).convert('RGB')\n",
    "    image=transform(image).unsqueeze(0)\n",
    "    return image"
   ]
  },
  {
   "cell_type": "code",
   "execution_count": 27,
   "id": "6e0058b4-e446-40d8-97c8-bcd18fd8d79d",
   "metadata": {},
   "outputs": [],
   "source": [
    "image_path='datasets/test3.jpg'\n",
    "image=load_image(image_path)"
   ]
  },
  {
   "cell_type": "code",
   "execution_count": 20,
   "id": "7e3ea53b-8814-45b6-8ec8-32964aabac81",
   "metadata": {},
   "outputs": [
    {
     "data": {
      "text/plain": [
       "{0: 'cat', 1: 'dog'}"
      ]
     },
     "execution_count": 20,
     "metadata": {},
     "output_type": "execute_result"
    }
   ],
   "source": [
    "idx_to_class={v: k for k,v in train_dataset.class_to_idx.items()}\n",
    "idx_to_class"
   ]
  },
  {
   "cell_type": "code",
   "execution_count": 28,
   "id": "18ffe466-4f27-431c-8ec1-b240db02e5df",
   "metadata": {},
   "outputs": [
    {
     "name": "stdout",
     "output_type": "stream",
     "text": [
      "Predicted class: dog, Probability: 0.9768\n"
     ]
    }
   ],
   "source": [
    "predicted_class, predicted_prob = predict_image(model, image, idx_to_class)\n",
    "\n",
    "# 결과 출력\n",
    "print(f\"Predicted class: {predicted_class}, Probability: {predicted_prob:.4f}\")"
   ]
  },
  {
   "cell_type": "code",
   "execution_count": null,
   "id": "3cf1a05a-0ba0-4a00-9382-211cf9108485",
   "metadata": {},
   "outputs": [],
   "source": []
  }
 ],
 "metadata": {
  "kernelspec": {
   "display_name": "Python 3 (ipykernel)",
   "language": "python",
   "name": "python3"
  },
  "language_info": {
   "codemirror_mode": {
    "name": "ipython",
    "version": 3
   },
   "file_extension": ".py",
   "mimetype": "text/x-python",
   "name": "python",
   "nbconvert_exporter": "python",
   "pygments_lexer": "ipython3",
   "version": "3.8.19"
  }
 },
 "nbformat": 4,
 "nbformat_minor": 5
}
