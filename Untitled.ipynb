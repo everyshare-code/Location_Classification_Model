{
 "cells": [
  {
   "cell_type": "code",
   "execution_count": 1,
   "id": "10c8829c-493d-446f-974c-01c180b05bfe",
   "metadata": {},
   "outputs": [
    {
     "name": "stdout",
     "output_type": "stream",
     "text": [
      "Collecting torchvision\n",
      "  Using cached torchvision-0.17.1-cp38-cp38-macosx_11_0_arm64.whl.metadata (6.6 kB)\n",
      "Collecting numpy (from torchvision)\n",
      "  Using cached numpy-1.24.4-cp38-cp38-macosx_11_0_arm64.whl.metadata (5.6 kB)\n",
      "Requirement already satisfied: torch==2.2.1 in /Users/everyshare/anaconda3/envs/Location_Classification_model/lib/python3.8/site-packages (from torchvision) (2.2.1)\n",
      "Collecting pillow!=8.3.*,>=5.3.0 (from torchvision)\n",
      "  Using cached pillow-10.2.0-cp38-cp38-macosx_11_0_arm64.whl.metadata (9.7 kB)\n",
      "Requirement already satisfied: filelock in /Users/everyshare/anaconda3/envs/Location_Classification_model/lib/python3.8/site-packages (from torch==2.2.1->torchvision) (3.13.3)\n",
      "Requirement already satisfied: typing-extensions>=4.8.0 in /Users/everyshare/anaconda3/envs/Location_Classification_model/lib/python3.8/site-packages (from torch==2.2.1->torchvision) (4.10.0)\n",
      "Requirement already satisfied: sympy in /Users/everyshare/anaconda3/envs/Location_Classification_model/lib/python3.8/site-packages (from torch==2.2.1->torchvision) (1.12)\n",
      "Requirement already satisfied: networkx in /Users/everyshare/anaconda3/envs/Location_Classification_model/lib/python3.8/site-packages (from torch==2.2.1->torchvision) (3.1)\n",
      "Requirement already satisfied: jinja2 in /Users/everyshare/anaconda3/envs/Location_Classification_model/lib/python3.8/site-packages (from torch==2.2.1->torchvision) (3.1.3)\n",
      "Requirement already satisfied: fsspec in /Users/everyshare/anaconda3/envs/Location_Classification_model/lib/python3.8/site-packages (from torch==2.2.1->torchvision) (2024.3.1)\n",
      "Requirement already satisfied: MarkupSafe>=2.0 in /Users/everyshare/anaconda3/envs/Location_Classification_model/lib/python3.8/site-packages (from jinja2->torch==2.2.1->torchvision) (2.1.5)\n",
      "Requirement already satisfied: mpmath>=0.19 in /Users/everyshare/anaconda3/envs/Location_Classification_model/lib/python3.8/site-packages (from sympy->torch==2.2.1->torchvision) (1.3.0)\n",
      "Using cached torchvision-0.17.1-cp38-cp38-macosx_11_0_arm64.whl (1.6 MB)\n",
      "Using cached pillow-10.2.0-cp38-cp38-macosx_11_0_arm64.whl (3.3 MB)\n",
      "Using cached numpy-1.24.4-cp38-cp38-macosx_11_0_arm64.whl (13.8 MB)\n",
      "Installing collected packages: pillow, numpy, torchvision\n",
      "Successfully installed numpy-1.24.4 pillow-10.2.0 torchvision-0.17.1\n"
     ]
    }
   ],
   "source": [
    "!pip install torchvision"
   ]
  },
  {
   "cell_type": "code",
   "execution_count": 7,
   "id": "73b7e15a-ad39-4bd5-a6cc-a6af6275fe82",
   "metadata": {},
   "outputs": [],
   "source": [
    "import torch"
   ]
  },
  {
   "cell_type": "code",
   "execution_count": 10,
   "id": "2264818a-d440-454f-ad0a-bc34a1f8eb5c",
   "metadata": {},
   "outputs": [
    {
     "name": "stdout",
     "output_type": "stream",
     "text": [
      "tensor([[0., 0.],\n",
      "        [0., 0.],\n",
      "        [0., 0.],\n",
      "        [0., 0.]])\n"
     ]
    }
   ],
   "source": [
    "x=torch.empty(4,2)\n",
    "print(x)\n"
   ]
  },
  {
   "cell_type": "code",
   "execution_count": 11,
   "id": "58ec2733-8432-42d7-b058-4196b3151adb",
   "metadata": {},
   "outputs": [
    {
     "data": {
      "text/plain": [
       "tensor([[0.5864, 0.3806],\n",
       "        [0.3820, 0.5687],\n",
       "        [0.7492, 0.9136],\n",
       "        [0.5956, 0.8904]])"
      ]
     },
     "execution_count": 11,
     "metadata": {},
     "output_type": "execute_result"
    }
   ],
   "source": [
    "x=torch.rand(4,2)\n",
    "x"
   ]
  },
  {
   "cell_type": "code",
   "execution_count": 12,
   "id": "6a6c95e6-5340-46cf-a308-83d044ad6aa9",
   "metadata": {},
   "outputs": [
    {
     "data": {
      "text/plain": [
       "tensor([[0, 0],\n",
       "        [0, 0],\n",
       "        [0, 0],\n",
       "        [0, 0]])"
      ]
     },
     "execution_count": 12,
     "metadata": {},
     "output_type": "execute_result"
    }
   ],
   "source": [
    "x=torch.zeros(4,2,dtype=torch.long)\n",
    "x"
   ]
  },
  {
   "cell_type": "code",
   "execution_count": 13,
   "id": "e76dbede-381b-4a59-bbcb-1b2bd854ee6f",
   "metadata": {},
   "outputs": [
    {
     "data": {
      "text/plain": [
       "tensor([3.0000, 2.3000])"
      ]
     },
     "execution_count": 13,
     "metadata": {},
     "output_type": "execute_result"
    }
   ],
   "source": [
    "x=torch.tensor([3,2.3])\n",
    "x"
   ]
  },
  {
   "cell_type": "code",
   "execution_count": 14,
   "id": "9320c774-3617-48ca-9319-796757b31c65",
   "metadata": {},
   "outputs": [
    {
     "data": {
      "text/plain": [
       "tensor([[1., 1., 1., 1.],\n",
       "        [1., 1., 1., 1.]], dtype=torch.float64)"
      ]
     },
     "execution_count": 14,
     "metadata": {},
     "output_type": "execute_result"
    }
   ],
   "source": [
    "x=x.new_ones(2,4,dtype=torch.double)\n",
    "x"
   ]
  },
  {
   "cell_type": "code",
   "execution_count": 16,
   "id": "78ea9cce-4bfb-4a0c-8332-537312cd2d03",
   "metadata": {},
   "outputs": [
    {
     "data": {
      "text/plain": [
       "tensor([[ 0.9907,  0.0356, -0.2493, -0.3999],\n",
       "        [-0.6130, -0.9324,  1.1741,  1.3334]])"
      ]
     },
     "execution_count": 16,
     "metadata": {},
     "output_type": "execute_result"
    }
   ],
   "source": [
    "x=torch.randn_like(x, dtype=torch.float)\n",
    "x"
   ]
  },
  {
   "cell_type": "code",
   "execution_count": 17,
   "id": "d148dbb2-12db-4ce6-9087-90bdf7c1a6cd",
   "metadata": {},
   "outputs": [
    {
     "data": {
      "text/plain": [
       "torch.Size([2, 4])"
      ]
     },
     "execution_count": 17,
     "metadata": {},
     "output_type": "execute_result"
    }
   ],
   "source": [
    "x.size()"
   ]
  },
  {
   "cell_type": "code",
   "execution_count": 19,
   "id": "e4353001-f216-4499-900d-6306e48fa76f",
   "metadata": {},
   "outputs": [],
   "source": [
    "y=torch.rand(2,4)"
   ]
  },
  {
   "cell_type": "code",
   "execution_count": 20,
   "id": "95719613-8a77-4f36-8584-b0e33da02c2a",
   "metadata": {},
   "outputs": [
    {
     "data": {
      "text/plain": [
       "tensor([[ 1.1194,  0.8903,  0.2128, -0.2200],\n",
       "        [-0.4705, -0.0874,  1.4305,  2.0446]])"
      ]
     },
     "execution_count": 20,
     "metadata": {},
     "output_type": "execute_result"
    }
   ],
   "source": [
    "x+y"
   ]
  },
  {
   "cell_type": "code",
   "execution_count": 21,
   "id": "b80111b2-c4c1-4dea-a849-7fb8b296d90f",
   "metadata": {},
   "outputs": [
    {
     "data": {
      "text/plain": [
       "tensor([[ 1.1194,  0.8903,  0.2128, -0.2200],\n",
       "        [-0.4705, -0.0874,  1.4305,  2.0446]])"
      ]
     },
     "execution_count": 21,
     "metadata": {},
     "output_type": "execute_result"
    }
   ],
   "source": [
    "torch.add(x,y)"
   ]
  },
  {
   "cell_type": "code",
   "execution_count": 22,
   "id": "2145b52b-369a-46e8-8943-74ab27925bbc",
   "metadata": {},
   "outputs": [
    {
     "data": {
      "text/plain": [
       "tensor([[ 1.1194,  0.8903,  0.2128, -0.2200],\n",
       "        [-0.4705, -0.0874,  1.4305,  2.0446]])"
      ]
     },
     "execution_count": 22,
     "metadata": {},
     "output_type": "execute_result"
    }
   ],
   "source": [
    "result=torch.empty(2,4)\n",
    "torch.add(x,y, out=result)\n",
    "result"
   ]
  },
  {
   "cell_type": "code",
   "execution_count": 23,
   "id": "6f32b5cf-7b6a-41c9-94a5-663a8c07fb76",
   "metadata": {},
   "outputs": [
    {
     "name": "stdout",
     "output_type": "stream",
     "text": [
      "tensor([[ 0.9907,  0.0356, -0.2493, -0.3999],\n",
      "        [-0.6130, -0.9324,  1.1741,  1.3334]])\n",
      "tensor([[0.1287, 0.8548, 0.4621, 0.1799],\n",
      "        [0.1425, 0.8450, 0.2565, 0.7112]])\n"
     ]
    },
    {
     "data": {
      "text/plain": [
       "tensor([[ 1.1194,  0.8903,  0.2128, -0.2200],\n",
       "        [-0.4705, -0.0874,  1.4305,  2.0446]])"
      ]
     },
     "execution_count": 23,
     "metadata": {},
     "output_type": "execute_result"
    }
   ],
   "source": [
    "print(x)\n",
    "print(y)\n",
    "y.add_(x)"
   ]
  },
  {
   "cell_type": "code",
   "execution_count": 24,
   "id": "80e8c2c0-2983-47e5-a22b-71e977b888cc",
   "metadata": {},
   "outputs": [
    {
     "data": {
      "text/plain": [
       "tensor([[-1.,  0.],\n",
       "        [-1., -1.]])"
      ]
     },
     "execution_count": 24,
     "metadata": {},
     "output_type": "execute_result"
    }
   ],
   "source": [
    "x=torch.Tensor([[1,3],[5,7]])\n",
    "y=torch.Tensor([[2,3],[6,8]])\n",
    "x-y\n",
    "x.sub"
   ]
  },
  {
   "cell_type": "code",
   "execution_count": 26,
   "id": "f1484439-1bc6-4f51-a28e-46d5c2066a9b",
   "metadata": {},
   "outputs": [
    {
     "name": "stdout",
     "output_type": "stream",
     "text": [
      "tensor([[ 1.2673, -2.7636, -0.0543, -1.2110,  0.8089],\n",
      "        [-0.8595,  2.2803, -0.5657,  0.3992, -1.3342],\n",
      "        [-1.7812, -0.2922,  2.6547,  0.9009, -1.1786],\n",
      "        [ 0.3812, -1.0184,  1.0653,  0.6637, -0.5160]])\n",
      "tensor([ 1.2673, -2.7636, -0.0543, -1.2110,  0.8089, -0.8595,  2.2803, -0.5657,\n",
      "         0.3992, -1.3342, -1.7812, -0.2922,  2.6547,  0.9009, -1.1786,  0.3812,\n",
      "        -1.0184,  1.0653,  0.6637, -0.5160])\n",
      "tensor([[ 1.2673, -2.7636, -0.0543, -1.2110],\n",
      "        [ 0.8089, -0.8595,  2.2803, -0.5657],\n",
      "        [ 0.3992, -1.3342, -1.7812, -0.2922],\n",
      "        [ 2.6547,  0.9009, -1.1786,  0.3812],\n",
      "        [-1.0184,  1.0653,  0.6637, -0.5160]])\n"
     ]
    }
   ],
   "source": [
    "x=torch.randn(4,5)\n",
    "y=x.view(20)\n",
    "z=x.view(5,-1)\n",
    "print(x)\n",
    "print(y)\n",
    "print(z)"
   ]
  },
  {
   "cell_type": "code",
   "execution_count": 27,
   "id": "61568509-713c-4c5b-a273-a66a6c651f7b",
   "metadata": {},
   "outputs": [
    {
     "name": "stdout",
     "output_type": "stream",
     "text": [
      "tensor([0.5694])\n",
      "0.569351851940155\n",
      "torch.float32\n"
     ]
    }
   ],
   "source": [
    "x=torch.randn(1)\n",
    "print(x)\n",
    "print(x.item())\n",
    "print(x.dtype)"
   ]
  },
  {
   "cell_type": "code",
   "execution_count": 28,
   "id": "68d3ccb0-1cf6-44d9-887f-8f0245332c5b",
   "metadata": {},
   "outputs": [
    {
     "data": {
      "text/plain": [
       "torch.Size([1, 3, 3])"
      ]
     },
     "execution_count": 28,
     "metadata": {},
     "output_type": "execute_result"
    }
   ],
   "source": [
    "tensor=torch.rand(1,3,3)\n",
    "tensor.shape"
   ]
  },
  {
   "cell_type": "code",
   "execution_count": 29,
   "id": "fa21015c-7860-49ad-b0ee-704c983be7bf",
   "metadata": {},
   "outputs": [
    {
     "name": "stdout",
     "output_type": "stream",
     "text": [
      "tensor([[0.2514, 0.3835, 0.3070],\n",
      "        [0.5792, 0.7560, 0.4345],\n",
      "        [0.4100, 0.0370, 0.0246]])\n"
     ]
    }
   ],
   "source": [
    "t=tensor.squeeze()\n",
    "print(t)"
   ]
  },
  {
   "cell_type": "code",
   "execution_count": 30,
   "id": "9e98dff4-25ac-4b82-af52-e57fe2ac85a3",
   "metadata": {},
   "outputs": [
    {
     "name": "stdout",
     "output_type": "stream",
     "text": [
      "tensor([[[0.1476, 0.4543, 0.5524],\n",
      "         [0.0493, 0.2620, 0.0594],\n",
      "         [0.2082, 0.3828, 0.6721]]])\n",
      "torch.Size([1, 3, 3])\n"
     ]
    }
   ],
   "source": [
    "tensor=torch.rand(1,3,3)\n",
    "print(tensor)\n",
    "print(tensor.shape)"
   ]
  },
  {
   "cell_type": "code",
   "execution_count": 31,
   "id": "f2f2cad1-6632-4437-873f-d307e7fb9ab3",
   "metadata": {},
   "outputs": [
    {
     "data": {
      "text/plain": [
       "tensor([[[[0.1476, 0.4543, 0.5524],\n",
       "          [0.0493, 0.2620, 0.0594],\n",
       "          [0.2082, 0.3828, 0.6721]]]])"
      ]
     },
     "execution_count": 31,
     "metadata": {},
     "output_type": "execute_result"
    }
   ],
   "source": [
    "t=tensor.unsqueeze(dim=0)\n",
    "t"
   ]
  },
  {
   "cell_type": "code",
   "execution_count": 32,
   "id": "34026967-1aef-46b6-9caa-63c3a6d874ea",
   "metadata": {},
   "outputs": [
    {
     "data": {
      "text/plain": [
       "tensor([[1., 4.],\n",
       "        [2., 5.],\n",
       "        [3., 6.]])"
      ]
     },
     "execution_count": 32,
     "metadata": {},
     "output_type": "execute_result"
    }
   ],
   "source": [
    "x=torch.FloatTensor([1,4])\n",
    "y=torch.FloatTensor([2,5])\n",
    "z=torch.FloatTensor([3,6])\n",
    "torch.stack([x,y,z])"
   ]
  },
  {
   "cell_type": "code",
   "execution_count": 33,
   "id": "601378d6-bf1e-4f1b-b741-7a74219a85da",
   "metadata": {},
   "outputs": [],
   "source": [
    "a=torch.randn(1,1,3,3)\n",
    "b=torch.randn(1,1,3,3)\n",
    "c=torch.cat((a,b),dim=0)"
   ]
  },
  {
   "cell_type": "code",
   "execution_count": 34,
   "id": "45c5db42-ff7c-456f-aa65-99a38f297e41",
   "metadata": {},
   "outputs": [
    {
     "data": {
      "text/plain": [
       "tensor([[[[ 0.3873, -0.6756,  1.0603],\n",
       "          [-0.3323, -0.7955, -1.2283],\n",
       "          [-0.3224,  2.4844,  0.5245]]],\n",
       "\n",
       "\n",
       "        [[[-0.2849,  0.8379,  0.4517],\n",
       "          [-0.3967,  0.3843,  1.2569],\n",
       "          [-2.6142, -0.7023, -0.6376]]]])"
      ]
     },
     "execution_count": 34,
     "metadata": {},
     "output_type": "execute_result"
    }
   ],
   "source": [
    "c"
   ]
  },
  {
   "cell_type": "code",
   "execution_count": 35,
   "id": "ff9df157-eed1-4b93-8c14-444a172e21c8",
   "metadata": {},
   "outputs": [
    {
     "name": "stdout",
     "output_type": "stream",
     "text": [
      "tensor([[0.3247, 0.6868, 0.6746, 0.0895, 0.3339, 0.6844],\n",
      "        [0.1043, 0.2276, 0.5626, 0.8842, 0.9685, 0.5524],\n",
      "        [0.1498, 0.7678, 0.4192, 0.9259, 0.5427, 0.6048]])\n",
      "tensor([[0.3247, 0.6868],\n",
      "        [0.1043, 0.2276],\n",
      "        [0.1498, 0.7678]])\n",
      "tensor([[0.6746, 0.0895],\n",
      "        [0.5626, 0.8842],\n",
      "        [0.4192, 0.9259]])\n",
      "tensor([[0.3339, 0.6844],\n",
      "        [0.9685, 0.5524],\n",
      "        [0.5427, 0.6048]])\n"
     ]
    }
   ],
   "source": [
    "tensor=torch.rand(3,6)\n",
    "t1,t2,t3=torch.chunk(tensor,3,dim=1)\n",
    "print(tensor)\n",
    "print(t1)\n",
    "print(t2)\n",
    "print(t3)"
   ]
  },
  {
   "cell_type": "code",
   "execution_count": 36,
   "id": "c108b71b-ac71-4752-bf5b-a181aac6f9fb",
   "metadata": {},
   "outputs": [
    {
     "name": "stdout",
     "output_type": "stream",
     "text": [
      "tensor([[0.3247, 0.6868, 0.6746, 0.0895, 0.3339, 0.6844],\n",
      "        [0.1043, 0.2276, 0.5626, 0.8842, 0.9685, 0.5524],\n",
      "        [0.1498, 0.7678, 0.4192, 0.9259, 0.5427, 0.6048]])\n",
      "tensor([[0.3247, 0.6868, 0.6746],\n",
      "        [0.1043, 0.2276, 0.5626],\n",
      "        [0.1498, 0.7678, 0.4192]])\n",
      "tensor([[0.0895, 0.3339, 0.6844],\n",
      "        [0.8842, 0.9685, 0.5524],\n",
      "        [0.9259, 0.5427, 0.6048]])\n"
     ]
    }
   ],
   "source": [
    "tensor-torch.rand(3,6)\n",
    "t1,t2 = torch.split(tensor,3,dim=1)\n",
    "print(tensor)\n",
    "print(t1)\n",
    "print(t2)"
   ]
  },
  {
   "cell_type": "code",
   "execution_count": 37,
   "id": "1d7e1e0e-5089-4a66-b84c-d579f3e111f8",
   "metadata": {},
   "outputs": [],
   "source": [
    "a=torch.ones(7)"
   ]
  },
  {
   "cell_type": "code",
   "execution_count": 38,
   "id": "1620654d-bc72-4859-b308-6255a3b198a9",
   "metadata": {},
   "outputs": [
    {
     "data": {
      "text/plain": [
       "array([1., 1., 1., 1., 1., 1., 1.], dtype=float32)"
      ]
     },
     "execution_count": 38,
     "metadata": {},
     "output_type": "execute_result"
    }
   ],
   "source": [
    "b=a.numpy()\n",
    "b"
   ]
  },
  {
   "cell_type": "code",
   "execution_count": 39,
   "id": "7f4aef36-8544-4226-836c-43ac73cf8bc0",
   "metadata": {},
   "outputs": [
    {
     "data": {
      "text/plain": [
       "tensor([2., 2., 2., 2., 2., 2., 2.])"
      ]
     },
     "execution_count": 39,
     "metadata": {},
     "output_type": "execute_result"
    }
   ],
   "source": [
    "a.add_(1)\n",
    "a"
   ]
  },
  {
   "cell_type": "code",
   "execution_count": 40,
   "id": "8d3240ae-5e20-4950-9037-8b2e23e6c4fe",
   "metadata": {},
   "outputs": [
    {
     "data": {
      "text/plain": [
       "array([2., 2., 2., 2., 2., 2., 2.], dtype=float32)"
      ]
     },
     "execution_count": 40,
     "metadata": {},
     "output_type": "execute_result"
    }
   ],
   "source": [
    "b"
   ]
  },
  {
   "cell_type": "code",
   "execution_count": 41,
   "id": "114e46c3-a2a9-493c-8d22-52e72b2feed3",
   "metadata": {},
   "outputs": [
    {
     "name": "stdout",
     "output_type": "stream",
     "text": [
      "[2. 2. 2. 2. 2. 2. 2.]\n",
      "tensor([2., 2., 2., 2., 2., 2., 2.], dtype=torch.float64)\n"
     ]
    }
   ],
   "source": [
    "import numpy as np\n",
    "a=np.ones(7)\n",
    "b=torch.from_numpy(a)\n",
    "np.add(a,1,out=a)\n",
    "print(a)\n",
    "print(b)"
   ]
  },
  {
   "cell_type": "code",
   "execution_count": 43,
   "id": "4107c508-78ea-416c-8a18-c1f1699aa56e",
   "metadata": {},
   "outputs": [
    {
     "name": "stdout",
     "output_type": "stream",
     "text": [
      "tensor([0.3048])\n",
      "0.30484694242477417\n",
      "torch.float32\n"
     ]
    }
   ],
   "source": [
    "x=torch.randn(1)\n",
    "print(x)\n",
    "print(x.item())\n",
    "print(x.dtype)\n"
   ]
  },
  {
   "cell_type": "code",
   "execution_count": 45,
   "id": "303d84f6-df31-4ec9-a622-de996e570d13",
   "metadata": {},
   "outputs": [
    {
     "name": "stdout",
     "output_type": "stream",
     "text": [
      "cpu\n",
      "tensor([1.3048])\n",
      "tensor([1.3048], dtype=torch.float64)\n"
     ]
    }
   ],
   "source": [
    "device=torch.device(\"cuda\" if torch.cuda.is_available() else \"cpu\")\n",
    "y=torch.ones_like(x,device=device)\n",
    "x=x.to(device)\n",
    "z=x+y\n",
    "print(device)\n",
    "print(z)\n",
    "print(z.to(\"cpu\",torch.double))"
   ]
  },
  {
   "cell_type": "code",
   "execution_count": 47,
   "id": "12b3dd53-48ce-4be4-b9d9-5a03887ef671",
   "metadata": {},
   "outputs": [
    {
     "name": "stdout",
     "output_type": "stream",
     "text": [
      "tensor([[1., 1., 1.],\n",
      "        [1., 1., 1.],\n",
      "        [1., 1., 1.]], requires_grad=True)\n"
     ]
    }
   ],
   "source": [
    "x=torch.ones(3,3,requires_grad=True)\n",
    "print(x)"
   ]
  },
  {
   "cell_type": "code",
   "execution_count": 48,
   "id": "9df57498-c559-4b07-955f-65275fb45fdb",
   "metadata": {},
   "outputs": [],
   "source": [
    "y=x+5"
   ]
  },
  {
   "cell_type": "code",
   "execution_count": 49,
   "id": "015f7988-da22-482b-8d61-23ad384f548b",
   "metadata": {},
   "outputs": [
    {
     "data": {
      "text/plain": [
       "tensor([[6., 6., 6.],\n",
       "        [6., 6., 6.],\n",
       "        [6., 6., 6.]], grad_fn=<AddBackward0>)"
      ]
     },
     "execution_count": 49,
     "metadata": {},
     "output_type": "execute_result"
    }
   ],
   "source": [
    "y"
   ]
  },
  {
   "cell_type": "code",
   "execution_count": 50,
   "id": "57a8cf6d-bceb-419a-870a-8adfae81628e",
   "metadata": {},
   "outputs": [
    {
     "data": {
      "text/plain": [
       "device(type='mps')"
      ]
     },
     "execution_count": 50,
     "metadata": {},
     "output_type": "execute_result"
    }
   ],
   "source": [
    "device=torch.device('mps')\n",
    "device"
   ]
  },
  {
   "cell_type": "code",
   "execution_count": 51,
   "id": "be4abd71-c09e-4c9c-8cf1-27363533937b",
   "metadata": {},
   "outputs": [
    {
     "name": "stdout",
     "output_type": "stream",
     "text": [
      "<AddBackward0 object at 0x13594a9a0>\n"
     ]
    }
   ],
   "source": [
    "print(y.grad_fn)"
   ]
  },
  {
   "cell_type": "code",
   "execution_count": 52,
   "id": "a6435673-23e1-477f-9895-541c6bd36c49",
   "metadata": {},
   "outputs": [
    {
     "name": "stdout",
     "output_type": "stream",
     "text": [
      "tensor([[72., 72., 72.],\n",
      "        [72., 72., 72.],\n",
      "        [72., 72., 72.]], grad_fn=<MulBackward0>) tensor(72., grad_fn=<MeanBackward0>)\n"
     ]
    }
   ],
   "source": [
    "z=y*y*2\n",
    "out=z.mean()\n",
    "print(z,out)"
   ]
  },
  {
   "cell_type": "code",
   "execution_count": 53,
   "id": "9e8ae276-b90d-42f8-b7c3-d0dd3b027ef8",
   "metadata": {},
   "outputs": [
    {
     "name": "stdout",
     "output_type": "stream",
     "text": [
      "False\n",
      "True\n",
      "<SumBackward0 object at 0x137167f10>\n"
     ]
    }
   ],
   "source": [
    "a=torch.randn(3,3)\n",
    "a=((a*3)/(a-1))\n",
    "print(a.requires_grad)\n",
    "a.requires_grad_(True)\n",
    "print(a.requires_grad)\n",
    "b=(a*a).sum()\n",
    "print(b.grad_fn)"
   ]
  },
  {
   "cell_type": "code",
   "execution_count": 54,
   "id": "195305cf-52d9-40c6-bc55-f15ca7a19951",
   "metadata": {},
   "outputs": [],
   "source": [
    "out.backward()"
   ]
  },
  {
   "cell_type": "code",
   "execution_count": 55,
   "id": "aa5fa341-ac15-4301-a320-45180697b262",
   "metadata": {},
   "outputs": [
    {
     "name": "stdout",
     "output_type": "stream",
     "text": [
      "tensor([[2.6667, 2.6667, 2.6667],\n",
      "        [2.6667, 2.6667, 2.6667],\n",
      "        [2.6667, 2.6667, 2.6667]])\n"
     ]
    }
   ],
   "source": [
    "print(x.grad)"
   ]
  },
  {
   "cell_type": "code",
   "execution_count": 56,
   "id": "a4c18dd1-eec3-4586-a727-9e1d76c79236",
   "metadata": {},
   "outputs": [
    {
     "name": "stdout",
     "output_type": "stream",
     "text": [
      "tensor([ -415.0375, -1747.3014,  -540.5959], grad_fn=<MulBackward0>)\n"
     ]
    }
   ],
   "source": [
    "x=torch.randn(3, requires_grad=True)\n",
    "y=x*2\n",
    "while y.data.norm() < 1000:\n",
    "    y=y*2\n",
    "print(y)"
   ]
  },
  {
   "cell_type": "code",
   "execution_count": 57,
   "id": "18b885fb-9e36-4f8a-a957-3b9782caf411",
   "metadata": {},
   "outputs": [
    {
     "name": "stdout",
     "output_type": "stream",
     "text": [
      "tensor([1.0240e+02, 1.0240e+03, 1.0240e-01])\n"
     ]
    }
   ],
   "source": [
    "v=torch.tensor([0.1,1.0,0.0001],dtype=torch.float)\n",
    "y.backward(v)\n",
    "print(x.grad)"
   ]
  },
  {
   "cell_type": "code",
   "execution_count": 58,
   "id": "52476041-5ea9-4274-bcf5-05d924dfe9dd",
   "metadata": {},
   "outputs": [
    {
     "name": "stdout",
     "output_type": "stream",
     "text": [
      "True\n",
      "True\n",
      "False\n"
     ]
    }
   ],
   "source": [
    "print(x.requires_grad)\n",
    "print((x**2).requires_grad)\n",
    "with torch.no_grad():\n",
    "    print((x**2).requires_grad)"
   ]
  },
  {
   "cell_type": "code",
   "execution_count": 59,
   "id": "57857d17-0363-4b13-a388-72fa9e17e65e",
   "metadata": {},
   "outputs": [
    {
     "name": "stdout",
     "output_type": "stream",
     "text": [
      "True\n",
      "False\n",
      "tensor(True)\n"
     ]
    }
   ],
   "source": [
    "print(x.requires_grad)\n",
    "y=x.detach()\n",
    "print(y.requires_grad)\n",
    "print(x.eq(y).all())"
   ]
  },
  {
   "cell_type": "code",
   "execution_count": 60,
   "id": "b86156a9-9c4f-4d3e-ad72-e375288b4732",
   "metadata": {},
   "outputs": [
    {
     "name": "stdout",
     "output_type": "stream",
     "text": [
      "tensor([[1., 1.],\n",
      "        [1., 1.]])\n"
     ]
    }
   ],
   "source": [
    "a=torch.ones(2,2)\n",
    "print(a)"
   ]
  },
  {
   "cell_type": "code",
   "execution_count": 61,
   "id": "872250f1-9211-4c5f-a8ca-a3221a489d69",
   "metadata": {},
   "outputs": [
    {
     "name": "stdout",
     "output_type": "stream",
     "text": [
      "tensor([[1., 1.],\n",
      "        [1., 1.]], requires_grad=True)\n"
     ]
    }
   ],
   "source": [
    "a=torch.ones(2,2,requires_grad=True)\n",
    "print(a)"
   ]
  },
  {
   "cell_type": "code",
   "execution_count": 62,
   "id": "2dca9770-fb47-4af5-9ca0-aa9479b9eec0",
   "metadata": {},
   "outputs": [
    {
     "name": "stdout",
     "output_type": "stream",
     "text": [
      "a.data: tensor([[1., 1.],\n",
      "        [1., 1.]], requires_grad=True)\n",
      "a.grad: None\n",
      "a.grad_fn None\n"
     ]
    }
   ],
   "source": [
    "print('a.data:',a)\n",
    "print('a.grad:',a.grad)\n",
    "print('a.grad_fn',a.grad_fn)\n"
   ]
  },
  {
   "cell_type": "code",
   "execution_count": null,
   "id": "1171876b-470a-4e4d-85c2-caad686f100b",
   "metadata": {},
   "outputs": [],
   "source": []
  }
 ],
 "metadata": {
  "kernelspec": {
   "display_name": "Python 3 (ipykernel)",
   "language": "python",
   "name": "python3"
  },
  "language_info": {
   "codemirror_mode": {
    "name": "ipython",
    "version": 3
   },
   "file_extension": ".py",
   "mimetype": "text/x-python",
   "name": "python",
   "nbconvert_exporter": "python",
   "pygments_lexer": "ipython3",
   "version": "3.8.19"
  }
 },
 "nbformat": 4,
 "nbformat_minor": 5
}
